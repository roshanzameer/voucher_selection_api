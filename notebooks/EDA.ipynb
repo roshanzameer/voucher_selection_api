{
 "cells": [
  {
   "cell_type": "markdown",
   "id": "6d380416",
   "metadata": {},
   "source": [
    "# Cleansing & Exploratory Data Analysis of the Historic Customer data"
   ]
  },
  {
   "cell_type": "markdown",
   "id": "1b1f3b58",
   "metadata": {},
   "source": [
    "### Load the historic data"
   ]
  },
  {
   "cell_type": "code",
   "execution_count": null,
   "id": "435fccd3",
   "metadata": {},
   "outputs": [],
   "source": [
    "import pandas as pd"
   ]
  },
  {
   "cell_type": "code",
   "execution_count": 5,
   "id": "8e1d6eb6",
   "metadata": {},
   "outputs": [],
   "source": [
    "df = pd.read_parquet('../data/data.parquet.gzip', engine='pyarrow')"
   ]
  },
  {
   "cell_type": "code",
   "execution_count": 7,
   "id": "73d8349d",
   "metadata": {},
   "outputs": [
    {
     "data": {
      "text/html": [
       "<div>\n",
       "<style scoped>\n",
       "    .dataframe tbody tr th:only-of-type {\n",
       "        vertical-align: middle;\n",
       "    }\n",
       "\n",
       "    .dataframe tbody tr th {\n",
       "        vertical-align: top;\n",
       "    }\n",
       "\n",
       "    .dataframe thead th {\n",
       "        text-align: right;\n",
       "    }\n",
       "</style>\n",
       "<table border=\"1\" class=\"dataframe\">\n",
       "  <thead>\n",
       "    <tr style=\"text-align: right;\">\n",
       "      <th></th>\n",
       "      <th>timestamp</th>\n",
       "      <th>country_code</th>\n",
       "      <th>last_order_ts</th>\n",
       "      <th>first_order_ts</th>\n",
       "      <th>total_orders</th>\n",
       "      <th>voucher_amount</th>\n",
       "    </tr>\n",
       "  </thead>\n",
       "  <tbody>\n",
       "    <tr>\n",
       "      <th>0</th>\n",
       "      <td>2020-05-20 15:43:38.364972+00:00</td>\n",
       "      <td>China</td>\n",
       "      <td>2020-04-19 00:00:00+00:00</td>\n",
       "      <td>2020-04-18 00:00:00+00:00</td>\n",
       "      <td>0.0</td>\n",
       "      <td>5720.0</td>\n",
       "    </tr>\n",
       "    <tr>\n",
       "      <th>1</th>\n",
       "      <td>2020-05-20 15:43:47.914346+00:00</td>\n",
       "      <td>China</td>\n",
       "      <td>2020-04-19 00:00:00+00:00</td>\n",
       "      <td>2020-04-13 00:00:00+00:00</td>\n",
       "      <td>1.0</td>\n",
       "      <td>8800.0</td>\n",
       "    </tr>\n",
       "    <tr>\n",
       "      <th>2</th>\n",
       "      <td>2020-05-20 15:36:56.866239+00:00</td>\n",
       "      <td>China</td>\n",
       "      <td>2020-04-19 00:00:00+00:00</td>\n",
       "      <td>2020-04-15 00:00:00+00:00</td>\n",
       "      <td>0.0</td>\n",
       "      <td>1760.0</td>\n",
       "    </tr>\n",
       "    <tr>\n",
       "      <th>3</th>\n",
       "      <td>2020-05-20 15:00:33.694108+00:00</td>\n",
       "      <td>China</td>\n",
       "      <td>2020-04-19 00:00:00+00:00</td>\n",
       "      <td>2020-04-13 00:00:00+00:00</td>\n",
       "      <td></td>\n",
       "      <td>1760.0</td>\n",
       "    </tr>\n",
       "    <tr>\n",
       "      <th>4</th>\n",
       "      <td>2020-05-20 15:43:18.521402+00:00</td>\n",
       "      <td>China</td>\n",
       "      <td>2020-04-19 00:00:00+00:00</td>\n",
       "      <td>2020-04-14 00:00:00+00:00</td>\n",
       "      <td>3.0</td>\n",
       "      <td>8800.0</td>\n",
       "    </tr>\n",
       "    <tr>\n",
       "      <th>...</th>\n",
       "      <td>...</td>\n",
       "      <td>...</td>\n",
       "      <td>...</td>\n",
       "      <td>...</td>\n",
       "      <td>...</td>\n",
       "      <td>...</td>\n",
       "    </tr>\n",
       "    <tr>\n",
       "      <th>511422</th>\n",
       "      <td>2020-04-03 18:31:36.635072+00:00</td>\n",
       "      <td>Latvia</td>\n",
       "      <td>2020-01-04 00:00:00+00:00</td>\n",
       "      <td>2019-10-30 00:00:00+00:00</td>\n",
       "      <td>27.0</td>\n",
       "      <td>4400.0</td>\n",
       "    </tr>\n",
       "    <tr>\n",
       "      <th>511423</th>\n",
       "      <td>2020-04-03 18:33:32.365196+00:00</td>\n",
       "      <td>Latvia</td>\n",
       "      <td>2020-01-04 00:00:00+00:00</td>\n",
       "      <td>2019-08-29 00:00:00+00:00</td>\n",
       "      <td>10.0</td>\n",
       "      <td>4400.0</td>\n",
       "    </tr>\n",
       "    <tr>\n",
       "      <th>511424</th>\n",
       "      <td>2020-04-03 19:23:07.711424+00:00</td>\n",
       "      <td>Peru</td>\n",
       "      <td>2020-01-04 00:00:00+00:00</td>\n",
       "      <td>2019-10-14 00:00:00+00:00</td>\n",
       "      <td>47.0</td>\n",
       "      <td>4400.0</td>\n",
       "    </tr>\n",
       "    <tr>\n",
       "      <th>511425</th>\n",
       "      <td>2020-04-03 19:19:06.162203+00:00</td>\n",
       "      <td>Australia</td>\n",
       "      <td>2020-01-04 00:00:00+00:00</td>\n",
       "      <td>2019-09-24 00:00:00+00:00</td>\n",
       "      <td>2.0</td>\n",
       "      <td>11000.0</td>\n",
       "    </tr>\n",
       "    <tr>\n",
       "      <th>511426</th>\n",
       "      <td>2020-04-03 19:23:30.054641+00:00</td>\n",
       "      <td>Australia</td>\n",
       "      <td>2020-01-04 00:00:00+00:00</td>\n",
       "      <td>2019-09-16 00:00:00+00:00</td>\n",
       "      <td>2.0</td>\n",
       "      <td>11000.0</td>\n",
       "    </tr>\n",
       "  </tbody>\n",
       "</table>\n",
       "<p>511427 rows × 6 columns</p>\n",
       "</div>"
      ],
      "text/plain": [
       "                               timestamp country_code  \\\n",
       "0       2020-05-20 15:43:38.364972+00:00        China   \n",
       "1       2020-05-20 15:43:47.914346+00:00        China   \n",
       "2       2020-05-20 15:36:56.866239+00:00        China   \n",
       "3       2020-05-20 15:00:33.694108+00:00        China   \n",
       "4       2020-05-20 15:43:18.521402+00:00        China   \n",
       "...                                  ...          ...   \n",
       "511422  2020-04-03 18:31:36.635072+00:00       Latvia   \n",
       "511423  2020-04-03 18:33:32.365196+00:00       Latvia   \n",
       "511424  2020-04-03 19:23:07.711424+00:00         Peru   \n",
       "511425  2020-04-03 19:19:06.162203+00:00    Australia   \n",
       "511426  2020-04-03 19:23:30.054641+00:00    Australia   \n",
       "\n",
       "                    last_order_ts            first_order_ts total_orders  \\\n",
       "0       2020-04-19 00:00:00+00:00 2020-04-18 00:00:00+00:00          0.0   \n",
       "1       2020-04-19 00:00:00+00:00 2020-04-13 00:00:00+00:00          1.0   \n",
       "2       2020-04-19 00:00:00+00:00 2020-04-15 00:00:00+00:00          0.0   \n",
       "3       2020-04-19 00:00:00+00:00 2020-04-13 00:00:00+00:00                \n",
       "4       2020-04-19 00:00:00+00:00 2020-04-14 00:00:00+00:00          3.0   \n",
       "...                           ...                       ...          ...   \n",
       "511422  2020-01-04 00:00:00+00:00 2019-10-30 00:00:00+00:00         27.0   \n",
       "511423  2020-01-04 00:00:00+00:00 2019-08-29 00:00:00+00:00         10.0   \n",
       "511424  2020-01-04 00:00:00+00:00 2019-10-14 00:00:00+00:00         47.0   \n",
       "511425  2020-01-04 00:00:00+00:00 2019-09-24 00:00:00+00:00          2.0   \n",
       "511426  2020-01-04 00:00:00+00:00 2019-09-16 00:00:00+00:00          2.0   \n",
       "\n",
       "        voucher_amount  \n",
       "0               5720.0  \n",
       "1               8800.0  \n",
       "2               1760.0  \n",
       "3               1760.0  \n",
       "4               8800.0  \n",
       "...                ...  \n",
       "511422          4400.0  \n",
       "511423          4400.0  \n",
       "511424          4400.0  \n",
       "511425         11000.0  \n",
       "511426         11000.0  \n",
       "\n",
       "[511427 rows x 6 columns]"
      ]
     },
     "execution_count": 7,
     "metadata": {},
     "output_type": "execute_result"
    }
   ],
   "source": [
    "df"
   ]
  },
  {
   "cell_type": "code",
   "execution_count": 8,
   "id": "852c3079",
   "metadata": {},
   "outputs": [
    {
     "data": {
      "text/plain": [
       "Index(['timestamp', 'country_code', 'last_order_ts', 'first_order_ts',\n",
       "       'total_orders', 'voucher_amount'],\n",
       "      dtype='object')"
      ]
     },
     "execution_count": 8,
     "metadata": {},
     "output_type": "execute_result"
    }
   ],
   "source": [
    "df.columns"
   ]
  },
  {
   "cell_type": "code",
   "execution_count": 58,
   "id": "c07c0830",
   "metadata": {},
   "outputs": [
    {
     "name": "stdout",
     "output_type": "stream",
     "text": [
      "<class 'pandas.core.frame.DataFrame'>\n",
      "RangeIndex: 511427 entries, 0 to 511426\n",
      "Data columns (total 6 columns):\n",
      " #   Column          Non-Null Count   Dtype              \n",
      "---  ------          --------------   -----              \n",
      " 0   timestamp       511427 non-null  datetime64[ns, UTC]\n",
      " 1   country_code    511427 non-null  object             \n",
      " 2   last_order_ts   511427 non-null  datetime64[ns, UTC]\n",
      " 3   first_order_ts  511427 non-null  datetime64[ns, UTC]\n",
      " 4   total_orders    511427 non-null  object             \n",
      " 5   voucher_amount  511427 non-null  float64            \n",
      "dtypes: datetime64[ns, UTC](3), float64(1), object(2)\n",
      "memory usage: 23.4+ MB\n"
     ]
    }
   ],
   "source": [
    "df.info()"
   ]
  },
  {
   "cell_type": "markdown",
   "id": "b297ed6d",
   "metadata": {},
   "source": [
    "## Some rules and Assumptions\n",
    "1. The columns containing Total number of orders and Voucher amount are to assumed to be Integer if not set so. \n",
    "2. Every column containing timestamps is converted to Datetime format if they were strings before.\n",
    "3. It is assumed that the Voucher amount is already transformed to a common currency.\n"
   ]
  },
  {
   "cell_type": "markdown",
   "id": "e2f8b5a5",
   "metadata": {},
   "source": [
    "### Analyse the Missing Data"
   ]
  },
  {
   "cell_type": "code",
   "execution_count": 31,
   "id": "80a51e16",
   "metadata": {},
   "outputs": [
    {
     "data": {
      "text/plain": [
       "timestamp         False\n",
       "country_code      False\n",
       "last_order_ts     False\n",
       "first_order_ts    False\n",
       "total_orders      False\n",
       "voucher_amount     True\n",
       "dtype: bool"
      ]
     },
     "execution_count": 31,
     "metadata": {},
     "output_type": "execute_result"
    }
   ],
   "source": [
    "df.isna().any()"
   ]
  },
  {
   "cell_type": "code",
   "execution_count": 32,
   "id": "99e93dbe",
   "metadata": {
    "scrolled": true
   },
   "outputs": [
    {
     "data": {
      "text/plain": [
       "timestamp             0\n",
       "country_code          0\n",
       "last_order_ts         0\n",
       "first_order_ts        0\n",
       "total_orders          0\n",
       "voucher_amount    29567\n",
       "dtype: int64"
      ]
     },
     "execution_count": 32,
     "metadata": {},
     "output_type": "execute_result"
    }
   ],
   "source": [
    "df.isnull().sum()"
   ]
  },
  {
   "cell_type": "markdown",
   "id": "dca7db7f",
   "metadata": {},
   "source": [
    "#### \n",
    "1. We learn that the voucher_amount column has missing values. Since this corresponds to an Amount, it can be considered a voucher of 0 value and imputed accordingly. \n",
    "2. No other Column has any missing values. "
   ]
  },
  {
   "cell_type": "code",
   "execution_count": 37,
   "id": "e2e873de",
   "metadata": {},
   "outputs": [],
   "source": [
    "df['voucher_amount'] = df['voucher_amount'].fillna(0)"
   ]
  },
  {
   "cell_type": "code",
   "execution_count": 39,
   "id": "af76e23b",
   "metadata": {
    "scrolled": true
   },
   "outputs": [
    {
     "data": {
      "text/plain": [
       "timestamp         False\n",
       "country_code      False\n",
       "last_order_ts     False\n",
       "first_order_ts    False\n",
       "total_orders      False\n",
       "voucher_amount    False\n",
       "dtype: bool"
      ]
     },
     "execution_count": 39,
     "metadata": {},
     "output_type": "execute_result"
    }
   ],
   "source": [
    "df.isna().any()"
   ]
  },
  {
   "cell_type": "markdown",
   "id": "5dd2c8e9",
   "metadata": {},
   "source": [
    "### Convert Columns carrying numbers to Float datatype"
   ]
  },
  {
   "cell_type": "code",
   "execution_count": 61,
   "id": "534288a2",
   "metadata": {},
   "outputs": [
    {
     "data": {
      "text/plain": [
       "511427"
      ]
     },
     "execution_count": 61,
     "metadata": {},
     "output_type": "execute_result"
    }
   ],
   "source": [
    "df['total_orders'].count()"
   ]
  },
  {
   "cell_type": "code",
   "execution_count": 70,
   "id": "e612a286",
   "metadata": {},
   "outputs": [
    {
     "data": {
      "text/plain": [
       "0    0.0\n",
       "1    1.0\n",
       "2    0.0\n",
       "3       \n",
       "4    3.0\n",
       "5    2.0\n",
       "6    1.0\n",
       "7    0.0\n",
       "8    4.0\n",
       "9    5.0\n",
       "Name: total_orders, dtype: object"
      ]
     },
     "execution_count": 70,
     "metadata": {},
     "output_type": "execute_result"
    }
   ],
   "source": [
    "df['total_orders'][0:10]"
   ]
  },
  {
   "cell_type": "code",
   "execution_count": 79,
   "id": "42ac8411",
   "metadata": {},
   "outputs": [
    {
     "data": {
      "text/plain": [
       "''"
      ]
     },
     "execution_count": 79,
     "metadata": {},
     "output_type": "execute_result"
    }
   ],
   "source": [
    "df['total_orders'][3]\n",
    "#4th item contains empty strings. Replace it to integer 0"
   ]
  },
  {
   "cell_type": "code",
   "execution_count": 87,
   "id": "1db80166",
   "metadata": {},
   "outputs": [],
   "source": [
    "def to_float(col):\n",
    "    if col == '' or col is None:\n",
    "        return float(0)\n",
    "    return float(col)"
   ]
  },
  {
   "cell_type": "code",
   "execution_count": 88,
   "id": "8f35a266",
   "metadata": {},
   "outputs": [],
   "source": [
    "df['total_orders'] = df.apply(lambda x: to_float(x['total_orders']),axis=1)"
   ]
  },
  {
   "cell_type": "code",
   "execution_count": 89,
   "id": "7dd405f8",
   "metadata": {},
   "outputs": [],
   "source": [
    "df['voucher_amount'] = df.apply(lambda x: to_float(x['voucher_amount']),axis=1)"
   ]
  },
  {
   "cell_type": "code",
   "execution_count": 90,
   "id": "f2e3025a",
   "metadata": {},
   "outputs": [
    {
     "name": "stdout",
     "output_type": "stream",
     "text": [
      "<class 'pandas.core.frame.DataFrame'>\n",
      "RangeIndex: 511427 entries, 0 to 511426\n",
      "Data columns (total 6 columns):\n",
      " #   Column          Non-Null Count   Dtype              \n",
      "---  ------          --------------   -----              \n",
      " 0   timestamp       511427 non-null  datetime64[ns, UTC]\n",
      " 1   country_code    511427 non-null  object             \n",
      " 2   last_order_ts   511427 non-null  datetime64[ns, UTC]\n",
      " 3   first_order_ts  511427 non-null  datetime64[ns, UTC]\n",
      " 4   total_orders    511427 non-null  float64            \n",
      " 5   voucher_amount  511427 non-null  float64            \n",
      "dtypes: datetime64[ns, UTC](3), float64(2), object(1)\n",
      "memory usage: 23.4+ MB\n"
     ]
    }
   ],
   "source": [
    "df.info()"
   ]
  },
  {
   "cell_type": "markdown",
   "id": "a046b153",
   "metadata": {},
   "source": [
    "### Convert Strings TS to Datetime Format"
   ]
  },
  {
   "cell_type": "code",
   "execution_count": 48,
   "id": "998002bc",
   "metadata": {},
   "outputs": [
    {
     "name": "stdout",
     "output_type": "stream",
     "text": [
      "<class 'pandas.core.frame.DataFrame'>\n",
      "RangeIndex: 511427 entries, 0 to 511426\n",
      "Data columns (total 6 columns):\n",
      " #   Column          Non-Null Count   Dtype              \n",
      "---  ------          --------------   -----              \n",
      " 0   timestamp       511427 non-null  object             \n",
      " 1   country_code    511427 non-null  object             \n",
      " 2   last_order_ts   511427 non-null  object             \n",
      " 3   first_order_ts  511427 non-null  datetime64[ns, UTC]\n",
      " 4   total_orders    511427 non-null  object             \n",
      " 5   voucher_amount  511427 non-null  float64            \n",
      "dtypes: datetime64[ns, UTC](1), float64(1), object(4)\n",
      "memory usage: 23.4+ MB\n"
     ]
    }
   ],
   "source": [
    "df.info()"
   ]
  },
  {
   "cell_type": "code",
   "execution_count": 54,
   "id": "a67ec1df",
   "metadata": {},
   "outputs": [],
   "source": [
    "for col in [\"timestamp\", \"last_order_ts\", \"first_order_ts\"]:\n",
    "    df[col] = pd.to_datetime(df[col])"
   ]
  },
  {
   "cell_type": "code",
   "execution_count": 55,
   "id": "f6468d83",
   "metadata": {},
   "outputs": [
    {
     "name": "stdout",
     "output_type": "stream",
     "text": [
      "<class 'pandas.core.frame.DataFrame'>\n",
      "RangeIndex: 511427 entries, 0 to 511426\n",
      "Data columns (total 6 columns):\n",
      " #   Column          Non-Null Count   Dtype              \n",
      "---  ------          --------------   -----              \n",
      " 0   timestamp       511427 non-null  datetime64[ns, UTC]\n",
      " 1   country_code    511427 non-null  object             \n",
      " 2   last_order_ts   511427 non-null  datetime64[ns, UTC]\n",
      " 3   first_order_ts  511427 non-null  datetime64[ns, UTC]\n",
      " 4   total_orders    511427 non-null  object             \n",
      " 5   voucher_amount  511427 non-null  float64            \n",
      "dtypes: datetime64[ns, UTC](3), float64(1), object(2)\n",
      "memory usage: 23.4+ MB\n"
     ]
    }
   ],
   "source": [
    "df.info()"
   ]
  },
  {
   "cell_type": "markdown",
   "id": "e07a711e",
   "metadata": {},
   "source": [
    "### Analyse the country code column"
   ]
  },
  {
   "cell_type": "code",
   "execution_count": 94,
   "id": "20a51ead",
   "metadata": {},
   "outputs": [
    {
     "data": {
      "text/plain": [
       "0          China\n",
       "5           Peru\n",
       "72     Australia\n",
       "123       Latvia\n",
       "Name: country_code, dtype: object"
      ]
     },
     "execution_count": 94,
     "metadata": {},
     "output_type": "execute_result"
    }
   ],
   "source": [
    "df['country_code'].drop_duplicates()\n",
    "# We have data from 4 different countries"
   ]
  },
  {
   "cell_type": "code",
   "execution_count": 104,
   "id": "cbd6ef97",
   "metadata": {},
   "outputs": [
    {
     "data": {
      "text/plain": [
       "China        169722\n",
       "Australia    134004\n",
       "Peru         106547\n",
       "Latvia       101154\n",
       "Name: country_code, dtype: int64"
      ]
     },
     "execution_count": 104,
     "metadata": {},
     "output_type": "execute_result"
    }
   ],
   "source": [
    "df['country_code'].value_counts()\n",
    "#Almost equal geographical distribution"
   ]
  },
  {
   "cell_type": "markdown",
   "id": "5705241d",
   "metadata": {},
   "source": [
    "## TODO: MAX, MIN Vouchers\n"
   ]
  },
  {
   "cell_type": "markdown",
   "id": "bcc2011d",
   "metadata": {},
   "source": [
    "### Dump cleansed data"
   ]
  },
  {
   "cell_type": "code",
   "execution_count": 96,
   "id": "b9ccf938",
   "metadata": {},
   "outputs": [],
   "source": [
    "df.to_csv('../data/clean_data.csv')"
   ]
  },
  {
   "cell_type": "code",
   "execution_count": null,
   "id": "3e4112f8",
   "metadata": {},
   "outputs": [],
   "source": []
  }
 ],
 "metadata": {
  "kernelspec": {
   "display_name": "Python 3",
   "language": "python",
   "name": "python3"
  },
  "language_info": {
   "codemirror_mode": {
    "name": "ipython",
    "version": 3
   },
   "file_extension": ".py",
   "mimetype": "text/x-python",
   "name": "python",
   "nbconvert_exporter": "python",
   "pygments_lexer": "ipython3",
   "version": "3.8.10"
  }
 },
 "nbformat": 4,
 "nbformat_minor": 5
}
